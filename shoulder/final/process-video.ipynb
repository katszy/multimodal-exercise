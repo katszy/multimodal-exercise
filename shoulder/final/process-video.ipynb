{
 "cells": [
  {
   "metadata": {},
   "cell_type": "markdown",
   "source": "# Imports",
   "id": "3c4da5ba2b70340a"
  },
  {
   "cell_type": "code",
   "id": "initial_id",
   "metadata": {
    "collapsed": true,
    "ExecuteTime": {
     "end_time": "2024-12-07T13:43:25.228616Z",
     "start_time": "2024-12-07T13:43:25.217368Z"
    }
   },
   "source": [
    "from sklearn.preprocessing import MinMaxScaler\n",
    "import pandas as pd\n",
    "import numpy as np\n",
    "from scipy.fftpack import fft, dct\n",
    "from scipy.stats import skew, kurtosis, entropy"
   ],
   "outputs": [],
   "execution_count": 36
  },
  {
   "metadata": {},
   "cell_type": "markdown",
   "source": "# Load data",
   "id": "5c992aa976f66d15"
  },
  {
   "metadata": {
    "ExecuteTime": {
     "end_time": "2024-12-07T13:44:05.647180Z",
     "start_time": "2024-12-07T13:44:05.625829Z"
    }
   },
   "cell_type": "code",
   "source": [
    "a = pd.read_pickle(\"data/vit/vit_a_correct.pkl\")\n",
    "b = pd.read_pickle(\"data/vit/vit_b_correct.pkl\")\n",
    "c = pd.read_pickle(\"data/vit/vit_c_correct.pkl\")\n",
    "d = pd.read_pickle(\"data/vit/vit_d_correct.pkl\")\n",
    "e = pd.read_pickle(\"data/vit/vit_e_correct.pkl\")\n",
    "video_correct = pd.concat([a,b,c,d,e], ignore_index=True)\n",
    "print(video_correct.shape)\n",
    "video_correct.to_pickle(\"data/vit/video_correct.pkl\")"
   ],
   "id": "509d089e96646eea",
   "outputs": [
    {
     "name": "stdout",
     "output_type": "stream",
     "text": [
      "(26704, 31)\n"
     ]
    }
   ],
   "execution_count": 38
  },
  {
   "metadata": {
    "ExecuteTime": {
     "end_time": "2024-12-07T13:44:06.315500Z",
     "start_time": "2024-12-07T13:44:06.297742Z"
    }
   },
   "cell_type": "code",
   "source": [
    "f = pd.read_pickle(\"data/vit/vit_a_incorrect.pkl\")\n",
    "g = pd.read_pickle(\"data/vit/vit_b_incorrect.pkl\")\n",
    "h = pd.read_pickle(\"data/vit/vit_c_incorrect.pkl\")\n",
    "i = pd.read_pickle(\"data/vit/vit_d_incorrect.pkl\")\n",
    "j = pd.read_pickle(\"data/vit/vit_e_incorrect.pkl\")\n",
    "video_incorrect = pd.concat([f,g,h,i,j], ignore_index=True)\n",
    "print(video_incorrect.shape)\n",
    "video_incorrect.to_pickle(\"data/vit/video_incorrect.pkl\")"
   ],
   "id": "54729b251b22de21",
   "outputs": [
    {
     "name": "stdout",
     "output_type": "stream",
     "text": [
      "(21500, 31)\n"
     ]
    }
   ],
   "execution_count": 39
  },
  {
   "metadata": {},
   "cell_type": "markdown",
   "source": "Annotate based on imu + scaling + position reset to 0",
   "id": "ac1172a16edceb0"
  },
  {
   "metadata": {},
   "cell_type": "markdown",
   "source": "# Label sets and reps",
   "id": "1cc2e1f9c985762c"
  },
  {
   "metadata": {
    "ExecuteTime": {
     "end_time": "2024-12-07T13:44:52.754108Z",
     "start_time": "2024-12-07T13:44:52.704236Z"
    }
   },
   "cell_type": "code",
   "source": [
    "video = pd.read_pickle(\"data/vit/video_correct.pkl\") # Video data without annotations\n",
    "imu = pd.read_pickle(\"data/out/df_correct_reps.pkl\")  # IMU data with annotations\n",
    "video = video.merge(imu[['Frame', 'Participant', 'Set', 'Repetition']], on=['Frame', 'Participant'], how='left')\n",
    "video = video.dropna(subset=['Set', 'Repetition'])\n",
    "video['Time'] = video['Frame'] / 60  "
   ],
   "id": "68e004b09b130070",
   "outputs": [],
   "execution_count": 40
  },
  {
   "metadata": {
    "ExecuteTime": {
     "end_time": "2024-12-07T13:44:56.720792Z",
     "start_time": "2024-12-07T13:44:56.691733Z"
    }
   },
   "cell_type": "code",
   "source": [
    "# For incorrect files\n",
    "video2 = pd.read_pickle(\"data/vit/video_incorrect.pkl\") \n",
    "imu2 = pd.read_pickle(\"data/out/df_incorrect_reps.pkl\")\n",
    "video2 = video2.merge(imu2[['Frame', 'Participant', 'Set', 'Repetition']], on=['Frame', 'Participant'], how='left')\n",
    "video2 = video2.dropna(subset=['Set', 'Repetition'])\n",
    "video2['Time'] = video2['Frame'] / 60 "
   ],
   "id": "f5f1f339b12c31a0",
   "outputs": [],
   "execution_count": 41
  },
  {
   "metadata": {},
   "cell_type": "markdown",
   "source": "# Rescale and reset positions",
   "id": "5224cb43f39e922e"
  },
  {
   "metadata": {
    "ExecuteTime": {
     "end_time": "2024-12-07T11:40:05.374505Z",
     "start_time": "2024-12-07T11:40:05.364968Z"
    }
   },
   "cell_type": "code",
   "source": [
    "def reset_and_scale_positions(df):\n",
    "    columns_to_process = [\n",
    "        col for col in df.columns \n",
    "        if not any(keyword in col for keyword in ['acc', 'vel', 'Correct', 'Participant', 'Frame', 'Set', 'Repetition', 'Time'])\n",
    "    ]\n",
    "    df[columns_to_process] = df.groupby(['Set', 'Repetition'])[columns_to_process].transform(lambda x: x - x.iloc[0])\n",
    "    scaler = MinMaxScaler()\n",
    "    df[columns_to_process] = scaler.fit_transform(df[columns_to_process])\n",
    "    return df"
   ],
   "id": "fd6a644f436af63e",
   "outputs": [],
   "execution_count": 32
  },
  {
   "metadata": {
    "ExecuteTime": {
     "end_time": "2024-12-07T11:42:28.787753Z",
     "start_time": "2024-12-07T11:42:28.516653Z"
    }
   },
   "cell_type": "code",
   "source": [
    "video_correct_done = reset_and_scale_positions(video) \n",
    "video_correct_done.to_pickle(\"data/out/video_correct_with_set_rep.pkl\")\n",
    "print(\"Annotated video data saved successfully.\")\n",
    "\n",
    "video_incorrect_done = reset_and_scale_positions(video2)\n",
    "video_incorrect_done.to_pickle(\"data/out/video_incorrect_with_set_rep.pkl\")\n",
    "print(\"Annotated incorrect video data saved successfully.\")"
   ],
   "id": "1b74aa54ec4c9898",
   "outputs": [
    {
     "name": "stdout",
     "output_type": "stream",
     "text": [
      "Annotated video data saved successfully.\n",
      "Annotated incorrect video data saved successfully.\n"
     ]
    }
   ],
   "execution_count": 34
  }
 ],
 "metadata": {
  "kernelspec": {
   "display_name": "Python 3",
   "language": "python",
   "name": "python3"
  },
  "language_info": {
   "codemirror_mode": {
    "name": "ipython",
    "version": 2
   },
   "file_extension": ".py",
   "mimetype": "text/x-python",
   "name": "python",
   "nbconvert_exporter": "python",
   "pygments_lexer": "ipython2",
   "version": "2.7.6"
  }
 },
 "nbformat": 4,
 "nbformat_minor": 5
}
